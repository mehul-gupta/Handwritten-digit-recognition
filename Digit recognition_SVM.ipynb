{
 "cells": [
  {
   "cell_type": "code",
   "execution_count": 2,
   "metadata": {},
   "outputs": [],
   "source": [
    "import pickle\n",
    "train = pickle.load(open(\"digits.pkl\",\"rb\"))"
   ]
  },
  {
   "cell_type": "code",
   "execution_count": null,
   "metadata": {},
   "outputs": [],
   "source": [
    "import matplotlib.pyplot as plt\n",
    "from sklearn import datasets, svm, metrics\n",
    "import numpy as np\n",
    "import pandas as pd\n",
    "\n",
    "# digits = datasets.load_digits()\n",
    "digits=pd.read_csv('train.csv')\n",
    "digits_target=digits['label']\n",
    "del digits['label']\n",
    "digits=digits.astype('float32')\n",
    "digits[digits>0]=digits/255\n",
    "\n",
    "n_samples = len(digits)\n",
    "\n",
    "classifier = svm.SVC(gamma=0.025)\n",
    "\n",
    "classifier.fit(digits[:n_samples], digits_target[:n_samples].values.ravel())\n"
   ]
  },
  {
   "cell_type": "code",
   "execution_count": null,
   "metadata": {},
   "outputs": [],
   "source": [
    "import pickle\n",
    "pickle.dump(classifier, open(\"digits.pkl\", \"wb\"),protocol=pickle.HIGHEST_PROTOCOL)"
   ]
  },
  {
   "cell_type": "code",
   "execution_count": 8,
   "metadata": {},
   "outputs": [
    {
     "name": "stdout",
     "output_type": "stream",
     "text": [
      "Predicted:  [6]\n"
     ]
    },
    {
     "data": {
      "image/png": "[encoded data removed]",
      "text/plain": [
       "<Figure size 432x288 with 1 Axes>"
      ]
     },
     "metadata": {},
     "output_type": "display_data"
    }
   ],
   "source": [
    "%matplotlib inline\n",
    "import matplotlib.pyplot as plt\n",
    "from PIL import Image, ImageFilter\n",
    "import cv2\n",
    "from PIL import Image\n",
    "import numpy as np\n",
    "\n",
    "def imageprepare(argv):\n",
    "    \"\"\"\n",
    "    This function returns the pixel values.\n",
    "    The input is a png file location.\n",
    "    \"\"\"\n",
    "    im = Image.open(argv).convert(\"RGB\")\n",
    "    im = im.convert(\"L\")\n",
    "\n",
    "    width = float(im.size[0])\n",
    "    height = float(im.size[1])\n",
    "    new_image = Image.new('L', (28, 28), 255)  # creates white canvas of 28x28 pixels\n",
    "\n",
    "    if width > height:  # check which dimension is bigger\n",
    "        # Width is bigger. Width becomes 20 pixels.\n",
    "        nheight = int(round((20.0 / width * height), 0))  # resize height according to ratio width\n",
    "        if nheight == 0:  # rare case but minimum is 1 pixel\n",
    "            nheight = 1\n",
    "            # resize and sharpen\n",
    "        img = im.resize((20, nheight), Image.ANTIALIAS).filter(ImageFilter.SHARPEN)\n",
    "        wtop = int(round(((28 - nheight) / 2), 0))  # calculate horizontal position\n",
    "        new_image.paste(img, (4, wtop))  # paste resized image on white canvas\n",
    "    else:\n",
    "        # Height is bigger. Height becomes 20 pixels.\n",
    "        nwidth = int(round((20.0 / height * width), 0))  # resize width according to ratio height\n",
    "        if nwidth == 0:  # rare case but minimum is 1 pixel\n",
    "            nwidth = 1\n",
    "            # resize and sharpen\n",
    "        img = im.resize((nwidth, 20), Image.ANTIALIAS).filter(ImageFilter.SHARPEN)\n",
    "        wleft = int(round(((28 - nwidth) / 2), 0))  # caculate vertical pozition\n",
    "        new_image.paste(img, (wleft, 4))  # paste resized image on white canvas\n",
    "\n",
    "    # newImage.save(\"sample.png\n",
    "\n",
    "    tv = list(new_image.getdata())  # get pixel values\n",
    "\n",
    "    # normalize pixels to 0 and 1. 0 is pure white, 1 is pure black.\n",
    "    tva = [(255 - x) * 1.0 / 255.0 for x in tv]\n",
    "    return tva\n",
    "\n",
    "\n",
    "def remove_transparent(path):\n",
    "    im = Image.open(path).convert(\"RGBA\")\n",
    "    width = float(im.size[0])\n",
    "    height = float(im.size[1])\n",
    "    canvas = Image.new('RGBA', im.size, (255, 255, 255, 255))  # Empty canvas colour (r,g,b,a)\n",
    "    canvas.paste(im, mask=im)  # Paste the image onto the canvas, using it's alpha channel as mask\n",
    "    canvas.thumbnail([width, height], Image.ANTIALIAS)\n",
    "    canvas.save(path, format=\"PNG\")\n",
    "\n",
    "def convert_image(image_path):\n",
    "    remove_transparent(image_path)\n",
    "    x = [imageprepare(image_path)]  # file path here\n",
    "    # Now we convert 784 sized 1d array to 24x24 sized 2d array so that we can visualize it\n",
    "    new_arr = [[0 for d in range(28)] for y in range(28)]\n",
    "    k = 0\n",
    "    for i in range(28):\n",
    "        for j in range(28):\n",
    "            new_arr[i][j] = x[0][k]\n",
    "            k = k + 1\n",
    "\n",
    "    return new_arr\n",
    "\n",
    "new_img=convert_image('C:/xampp/htdocs/digit_recog/tmp/img.png')\n",
    "plt.subplot(1, 1, 1)\n",
    "plt.axis('off')\n",
    "plt.imshow(new_img, cmap=plt.cm.gray_r, interpolation='nearest')\n",
    "npimg=np.array(new_img)\n",
    "npimg[npimg>0.1]=1\n",
    "npimg[npimg<=0.1]=0\n",
    "npimg=npimg.reshape(-1,784)\n",
    "predicted = train.predict(npimg)\n",
    "print(\"Predicted: \",predicted)"
   ]
  },
  {
   "cell_type": "code",
   "execution_count": null,
   "metadata": {},
   "outputs": [],
   "source": []
  },
  {
   "cell_type": "code",
   "execution_count": null,
   "metadata": {},
   "outputs": [],
   "source": []
  },
  {
   "cell_type": "code",
   "execution_count": null,
   "metadata": {},
   "outputs": [],
   "source": []
  }
 ],
 "metadata": {
  "kernelspec": {
   "display_name": "Python 3",
   "language": "python",
   "name": "python3"
  },
  "language_info": {
   "codemirror_mode": {
    "name": "ipython",
    "version": 3
   },
   "file_extension": ".py",
   "mimetype": "text/x-python",
   "name": "python",
   "nbconvert_exporter": "python",
   "pygments_lexer": "ipython3",
   "version": "3.6.5"
  }
 },
 "nbformat": 4,
 "nbformat_minor": 2
}
