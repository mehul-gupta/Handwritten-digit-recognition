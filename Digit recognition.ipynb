{
 "cells": [
  {
   "cell_type": "markdown",
   "metadata": {},
   "source": [
    "Convolutional neural networks are very effective in image classification. If we simply add one layer of conv filters to our fully connected NN (before the dense layers), we'll beat 99%. For example in Keras: model.add(Conv2D(filters=32,kernel_size=5,activation='relu')) The simple network 784-32C5-500-10 with dropout achieves 99% after 30 epochs. (Add a pooling layer and it gets there in 15 epochs.)\n",
    "\n",
    "**Best Design:** The best design is to start with convolution layer(s), then add a pooling layer. Then add convolution layer(s), then another pooling. Then add dense layer(s). Finish with softmax. Here's a simple schematic (from LeNet5): \n",
    "\n",
    "![LeNet5 architecture](images/LaNet5-architecture.jpg)"
   ]
  },
  {
   "cell_type": "markdown",
   "metadata": {},
   "source": [
    "Histogram of **Kaggle leaderboard scores:**\n",
    "\n",
    "![Histogram of Kaggle leaderboard scores](images/KaggleMNISThist3.png)"
   ]
  },
  {
   "cell_type": "markdown",
   "metadata": {},
   "source": [
    "## 5 Layer Deep CNN Model with Keras and Tensorflow"
   ]
  },
  {
   "cell_type": "code",
   "execution_count": 3,
   "metadata": {},
   "outputs": [
    {
     "name": "stdout",
     "output_type": "stream",
     "text": [
      "_________________________________________________________________\n",
      "Layer (type)                 Output Shape              Param #   \n",
      "=================================================================\n",
      "conv2d_11 (Conv2D)           (None, 24, 24, 32)        832       \n",
      "_________________________________________________________________\n",
      "conv2d_12 (Conv2D)           (None, 20, 20, 32)        25632     \n",
      "_________________________________________________________________\n",
      "max_pooling2d_5 (MaxPooling2 (None, 10, 10, 32)        0         \n",
      "_________________________________________________________________\n",
      "batch_normalization_7 (Batch (None, 10, 10, 32)        128       \n",
      "_________________________________________________________________\n",
      "dropout_9 (Dropout)          (None, 10, 10, 32)        0         \n",
      "_________________________________________________________________\n",
      "conv2d_13 (Conv2D)           (None, 8, 8, 64)          18496     \n",
      "_________________________________________________________________\n",
      "conv2d_14 (Conv2D)           (None, 6, 6, 64)          36928     \n",
      "_________________________________________________________________\n",
      "max_pooling2d_6 (MaxPooling2 (None, 3, 3, 64)          0         \n",
      "_________________________________________________________________\n",
      "batch_normalization_8 (Batch (None, 3, 3, 64)          256       \n",
      "_________________________________________________________________\n",
      "dropout_10 (Dropout)         (None, 3, 3, 64)          0         \n",
      "_________________________________________________________________\n",
      "conv2d_15 (Conv2D)           (None, 1, 1, 128)         73856     \n",
      "_________________________________________________________________\n",
      "batch_normalization_9 (Batch (None, 1, 1, 128)         512       \n",
      "_________________________________________________________________\n",
      "flatten_3 (Flatten)          (None, 128)               0         \n",
      "_________________________________________________________________\n",
      "dense_7 (Dense)              (None, 256)               33024     \n",
      "_________________________________________________________________\n",
      "dropout_11 (Dropout)         (None, 256)               0         \n",
      "_________________________________________________________________\n",
      "dense_8 (Dense)              (None, 128)               32896     \n",
      "_________________________________________________________________\n",
      "dropout_12 (Dropout)         (None, 128)               0         \n",
      "_________________________________________________________________\n",
      "dense_9 (Dense)              (None, 10)                1290      \n",
      "=================================================================\n",
      "Total params: 223,850\n",
      "Trainable params: 223,402\n",
      "Non-trainable params: 448\n",
      "_________________________________________________________________\n",
      "Epoch 1/30\n",
      "300/300 [==============================] - 14s 48ms/step - loss: 1.1971 - acc: 0.5931 - val_loss: 0.1868 - val_acc: 0.9417\n",
      "Epoch 2/30\n",
      "300/300 [==============================] - 12s 38ms/step - loss: 0.4644 - acc: 0.8611 - val_loss: 0.1364 - val_acc: 0.9583\n",
      "Epoch 3/30\n",
      "300/300 [==============================] - 12s 40ms/step - loss: 0.3435 - acc: 0.9027 - val_loss: 0.0759 - val_acc: 0.9786\n",
      "Epoch 4/30\n",
      "300/300 [==============================] - 13s 43ms/step - loss: 0.2844 - acc: 0.9173 - val_loss: 0.0723 - val_acc: 0.9795\n",
      "Epoch 5/30\n",
      "300/300 [==============================] - 12s 40ms/step - loss: 0.2161 - acc: 0.9356 - val_loss: 0.0633 - val_acc: 0.9812\n",
      "Epoch 6/30\n",
      "300/300 [==============================] - 12s 40ms/step - loss: 0.2120 - acc: 0.9395 - val_loss: 0.0642 - val_acc: 0.9831\n",
      "Epoch 7/30\n",
      "300/300 [==============================] - 12s 40ms/step - loss: 0.1796 - acc: 0.9470 - val_loss: 0.0902 - val_acc: 0.9740\n",
      "Epoch 8/30\n",
      "300/300 [==============================] - 12s 41ms/step - loss: 0.1808 - acc: 0.9517 - val_loss: 0.0517 - val_acc: 0.9848\n",
      "Epoch 9/30\n",
      "300/300 [==============================] - 12s 39ms/step - loss: 0.1448 - acc: 0.9584 - val_loss: 0.0572 - val_acc: 0.9845\n",
      "Epoch 10/30\n",
      "300/300 [==============================] - 12s 39ms/step - loss: 0.1679 - acc: 0.9545 - val_loss: 0.0481 - val_acc: 0.9869\n",
      "Epoch 11/30\n",
      "300/300 [==============================] - 12s 39ms/step - loss: 0.1511 - acc: 0.9605 - val_loss: 0.0513 - val_acc: 0.9860\n",
      "Epoch 12/30\n",
      "300/300 [==============================] - 12s 39ms/step - loss: 0.1347 - acc: 0.9636 - val_loss: 0.0479 - val_acc: 0.9867\n",
      "Epoch 13/30\n",
      "300/300 [==============================] - 12s 39ms/step - loss: 0.1215 - acc: 0.9655 - val_loss: 0.0443 - val_acc: 0.9864\n",
      "Epoch 14/30\n",
      "300/300 [==============================] - 12s 40ms/step - loss: 0.1368 - acc: 0.9603 - val_loss: 0.0482 - val_acc: 0.9876\n",
      "Epoch 15/30\n",
      "300/300 [==============================] - 11s 38ms/step - loss: 0.1257 - acc: 0.9648 - val_loss: 0.0392 - val_acc: 0.9898\n",
      "Epoch 16/30\n",
      "300/300 [==============================] - 11s 38ms/step - loss: 0.1048 - acc: 0.9716 - val_loss: 0.0379 - val_acc: 0.9886\n",
      "Epoch 17/30\n",
      "300/300 [==============================] - 13s 42ms/step - loss: 0.1082 - acc: 0.9722 - val_loss: 0.0435 - val_acc: 0.9888\n",
      "Epoch 18/30\n",
      "300/300 [==============================] - 11s 38ms/step - loss: 0.1029 - acc: 0.9709 - val_loss: 0.0391 - val_acc: 0.9890\n",
      "Epoch 19/30\n",
      "300/300 [==============================] - 11s 38ms/step - loss: 0.1011 - acc: 0.9712 - val_loss: 0.0306 - val_acc: 0.9917\n",
      "Epoch 20/30\n",
      "300/300 [==============================] - 12s 41ms/step - loss: 0.1041 - acc: 0.9704 - val_loss: 0.0348 - val_acc: 0.9905\n",
      "Epoch 21/30\n",
      "300/300 [==============================] - 11s 38ms/step - loss: 0.1034 - acc: 0.9714 - val_loss: 0.0385 - val_acc: 0.9876\n",
      "Epoch 22/30\n",
      "300/300 [==============================] - 11s 38ms/step - loss: 0.0966 - acc: 0.9741 - val_loss: 0.0296 - val_acc: 0.9907\n",
      "Epoch 23/30\n",
      "300/300 [==============================] - 12s 39ms/step - loss: 0.0838 - acc: 0.9771 - val_loss: 0.0336 - val_acc: 0.9917\n",
      "Epoch 24/30\n",
      "300/300 [==============================] - 11s 37ms/step - loss: 0.0874 - acc: 0.9757 - val_loss: 0.0324 - val_acc: 0.9917\n",
      "Epoch 25/30\n",
      "300/300 [==============================] - 11s 36ms/step - loss: 0.0818 - acc: 0.9772 - val_loss: 0.0298 - val_acc: 0.9921\n",
      "Epoch 26/30\n",
      "300/300 [==============================] - 11s 38ms/step - loss: 0.0842 - acc: 0.9767 - val_loss: 0.0296 - val_acc: 0.9907\n",
      "Epoch 27/30\n",
      "300/300 [==============================] - 11s 38ms/step - loss: 0.0814 - acc: 0.9777 - val_loss: 0.0288 - val_acc: 0.9919\n",
      "Epoch 28/30\n",
      "300/300 [==============================] - 11s 38ms/step - loss: 0.0759 - acc: 0.9797 - val_loss: 0.0344 - val_acc: 0.9907\n",
      "Epoch 29/30\n",
      "300/300 [==============================] - 11s 36ms/step - loss: 0.0789 - acc: 0.9778 - val_loss: 0.0310 - val_acc: 0.9910\n",
      "Epoch 30/30\n",
      "300/300 [==============================] - 12s 39ms/step - loss: 0.0745 - acc: 0.9799 - val_loss: 0.0244 - val_acc: 0.9936\n"
     ]
    }
   ],
   "source": [
    "import numpy as np\n",
    "import matplotlib.pyplot as plt\n",
    "%matplotlib inline\n",
    "from sklearn.model_selection import train_test_split\n",
    "from sklearn.metrics import confusion_matrix\n",
    "import pandas as pd\n",
    "\n",
    "from keras.utils.np_utils import to_categorical\n",
    "from keras.models import Sequential\n",
    "from keras.layers import Dense, Dropout, Flatten, Conv2D, MaxPool2D, BatchNormalization\n",
    "from keras.optimizers import Adam\n",
    "from keras.preprocessing.image import ImageDataGenerator\n",
    "from keras.callbacks import LearningRateScheduler\n",
    "import tensorflow as tf\n",
    "\n",
    "config = tf.ConfigProto()\n",
    "config.gpu_options.allow_growth = True\n",
    "session = tf.Session(config=config)\n",
    "\n",
    "train_data = pd.read_csv(\"train.csv\")\n",
    "test_data = pd.read_csv(\"test.csv\")\n",
    "\n",
    "Y_train = train_data[\"label\"]\n",
    "X_train = train_data.drop(labels = [\"label\"],axis = 1)\n",
    "X_train = X_train / 255.0\n",
    "X_test = test_data / 255.0\n",
    "X_train = X_train.values.reshape(-1,28,28,1)\n",
    "X_test = X_test.values.reshape(-1,28,28,1)\n",
    "Y_train = to_categorical(Y_train, num_classes = 10)\n",
    "\n",
    "datagen = ImageDataGenerator(\n",
    "        rotation_range=10,\n",
    "        zoom_range = 0.1,\n",
    "        width_shift_range=0.1,\n",
    "        height_shift_range=0.1)\n",
    "\n",
    "datagen.fit(X_train)\n",
    "\n",
    "X_train, X_val, Y_train, Y_val = train_test_split(X_train, Y_train, test_size = 0.1)\n",
    "\n",
    "model = Sequential()\n",
    "\n",
    "model.add(Conv2D(32, kernel_size=5,input_shape=(28, 28, 1), activation = 'relu'))\n",
    "model.add(Conv2D(32, kernel_size=5, activation = 'relu'))\n",
    "model.add(MaxPool2D(2,2))\n",
    "model.add(BatchNormalization())\n",
    "model.add(Dropout(0.4))\n",
    "\n",
    "model.add(Conv2D(64, kernel_size=3,activation = 'relu'))\n",
    "model.add(Conv2D(64, kernel_size=3,activation = 'relu'))\n",
    "model.add(MaxPool2D(2,2))\n",
    "model.add(BatchNormalization())\n",
    "model.add(Dropout(0.4))\n",
    "\n",
    "model.add(Conv2D(128, kernel_size=3, activation = 'relu'))\n",
    "model.add(BatchNormalization())\n",
    "\n",
    "model.add(Flatten())\n",
    "model.add(Dense(256, activation = \"relu\"))\n",
    "model.add(Dropout(0.4))\n",
    "model.add(Dense(128, activation = \"relu\"))\n",
    "model.add(Dropout(0.4))\n",
    "model.add(Dense(10, activation = \"softmax\"))\n",
    "\n",
    "optimizer=Adam(lr=0.001)\n",
    "model.compile(optimizer = optimizer , loss = \"categorical_crossentropy\", metrics=[\"accuracy\"])\n",
    "\n",
    "model.summary()\n",
    "\n",
    "annealer = LearningRateScheduler(lambda x: 1e-3 * 0.95 ** x)\n",
    "model_try = model.fit_generator(datagen.flow(X_train,Y_train, batch_size=32),\n",
    "                              epochs = 30, validation_data = (X_val,Y_val),\n",
    "                              verbose = 1, steps_per_epoch=300, callbacks=[annealer])\n",
    "                              \n",
    "predictions = model.predict(X_test)\n",
    "predictions = np.argmax(predictions,axis = 1)\n",
    "predictions = pd.Series(predictions, name=\"Label\")\n",
    "submit = pd.concat([pd.Series(range(1,28001),name = \"ImageId\"),predictions],axis = 1)\n",
    "submit.to_csv(\"result.csv\",index=False)"
   ]
  },
  {
   "cell_type": "markdown",
   "metadata": {},
   "source": [
    "### Saving the model to a file"
   ]
  },
  {
   "cell_type": "code",
   "execution_count": 5,
   "metadata": {},
   "outputs": [],
   "source": [
    "# import pickle\n",
    "# pickle.dump(model, open(\"digits_deeplearn.pkl\", \"wb\"),protocol=pickle.HIGHEST_PROTOCOL)\n",
    "from keras.models import load_model \n",
    "model.save('digits_deeplearn.h5')"
   ]
  },
  {
   "cell_type": "code",
   "execution_count": 4,
   "metadata": {},
   "outputs": [
    {
     "name": "stdout",
     "output_type": "stream",
     "text": [
      "Training Accuracy: 99.36%\n",
      "CNN Error: 0.64%\n"
     ]
    }
   ],
   "source": [
    "scores = model.evaluate(X_val, Y_val, verbose=0)\n",
    "print(\"Training Accuracy: %.2f%%\" % (scores[1]*100))\n",
    "print(\"CNN Error: %.2f%%\" % (100-scores[1]*100))"
   ]
  },
  {
   "cell_type": "code",
   "execution_count": 6,
   "metadata": {},
   "outputs": [
    {
     "data": {
      "text/plain": [
       "[0.02143886872308247, 0.9945238095238095]"
      ]
     },
     "execution_count": 6,
     "metadata": {},
     "output_type": "execute_result"
    }
   ],
   "source": [
    "scores"
   ]
  },
  {
   "cell_type": "code",
   "execution_count": 7,
   "metadata": {},
   "outputs": [
    {
     "name": "stdout",
     "output_type": "stream",
     "text": [
      "['loss', 'acc']\n"
     ]
    }
   ],
   "source": [
    "print(model.metrics_names)"
   ]
  },
  {
   "cell_type": "code",
   "execution_count": null,
   "metadata": {},
   "outputs": [],
   "source": []
  },
  {
   "cell_type": "markdown",
   "metadata": {},
   "source": [
    "# Start here to directly load the model from the file"
   ]
  },
  {
   "cell_type": "markdown",
   "metadata": {},
   "source": [
    "### Loading the model from the file"
   ]
  },
  {
   "cell_type": "code",
   "execution_count": 1,
   "metadata": {},
   "outputs": [
    {
     "name": "stderr",
     "output_type": "stream",
     "text": [
      "Using TensorFlow backend.\n"
     ]
    }
   ],
   "source": [
    "# import pickle\n",
    "# model = pickle.load(open(\"digits_deeplearn.pkl\",\"rb\"))\n",
    "from keras.models import load_model \n",
    "model = load_model('digits_deeplearn.h5')"
   ]
  },
  {
   "cell_type": "markdown",
   "metadata": {},
   "source": [
    "### Processing the image obtained from HTML canvas and predicting the digit"
   ]
  },
  {
   "cell_type": "code",
   "execution_count": 2,
   "metadata": {},
   "outputs": [
    {
     "name": "stdout",
     "output_type": "stream",
     "text": [
      "Predicted:  [3]\n"
     ]
    },
    {
     "data": {
      "image/png": "[encoded data removed]",
      "text/plain": [
       "<Figure size 432x288 with 1 Axes>"
      ]
     },
     "metadata": {},
     "output_type": "display_data"
    }
   ],
   "source": [
    "%matplotlib inline\n",
    "import matplotlib.pyplot as plt\n",
    "from PIL import Image, ImageFilter\n",
    "import cv2\n",
    "from PIL import Image\n",
    "import numpy as np\n",
    "\n",
    "def imageprepare(argv):\n",
    "    \"\"\"\n",
    "    This function returns the pixel values.\n",
    "    The input is a png file location.\n",
    "    \"\"\"\n",
    "    im = Image.open(argv).convert(\"RGB\")\n",
    "    im = im.convert(\"L\")\n",
    "\n",
    "    width = float(im.size[0])\n",
    "    height = float(im.size[1])\n",
    "    new_image = Image.new('L', (28, 28), 255)  # creates white canvas of 28x28 pixels\n",
    "\n",
    "    if width > height:  # check which dimension is bigger\n",
    "        # Width is bigger. Width becomes 20 pixels.\n",
    "        nheight = int(round((20.0 / width * height), 0))  # resize height according to ratio width\n",
    "        if nheight == 0:  # rare case but minimum is 1 pixel\n",
    "            nheight = 1\n",
    "            # resize and sharpen\n",
    "        img = im.resize((20, nheight), Image.ANTIALIAS).filter(ImageFilter.SHARPEN)\n",
    "        wtop = int(round(((28 - nheight) / 2), 0))  # calculate horizontal position\n",
    "        new_image.paste(img, (4, wtop))  # paste resized image on white canvas\n",
    "    else:\n",
    "        # Height is bigger. Height becomes 20 pixels.\n",
    "        nwidth = int(round((20.0 / height * width), 0))  # resize width according to ratio height\n",
    "        if nwidth == 0:  # rare case but minimum is 1 pixel\n",
    "            nwidth = 1\n",
    "            # resize and sharpen\n",
    "        img = im.resize((nwidth, 20), Image.ANTIALIAS).filter(ImageFilter.SHARPEN)\n",
    "        wleft = int(round(((28 - nwidth) / 2), 0))  # caculate vertical pozition\n",
    "        new_image.paste(img, (wleft, 4))  # paste resized image on white canvas\n",
    "\n",
    "    # newImage.save(\"sample.png\n",
    "\n",
    "    tv = list(new_image.getdata())  # get pixel values\n",
    "\n",
    "    # normalize pixels to 0 and 1. 0 is pure white, 1 is pure black.\n",
    "    tva = [(255 - x) * 1.0 / 255.0 for x in tv]\n",
    "    return tva\n",
    "\n",
    "\n",
    "def remove_transparent(path):\n",
    "    im = Image.open(path).convert(\"RGBA\")\n",
    "    width = float(im.size[0])\n",
    "    height = float(im.size[1])\n",
    "    canvas = Image.new('RGBA', im.size, (255, 255, 255, 255))  # Empty canvas colour (r,g,b,a)\n",
    "    canvas.paste(im, mask=im)  # Paste the image onto the canvas, using it's alpha channel as mask\n",
    "    canvas.thumbnail([width, height], Image.ANTIALIAS)\n",
    "    canvas.save(path, format=\"PNG\")\n",
    "\n",
    "def convert_image(image_path):\n",
    "    remove_transparent(image_path)\n",
    "    x = [imageprepare(image_path)]  # file path here\n",
    "    # Now we convert 784 sized 1d array to 24x24 sized 2d array so that we can visualize it\n",
    "    new_arr = [[0 for d in range(28)] for y in range(28)]\n",
    "    k = 0\n",
    "    for i in range(28):\n",
    "        for j in range(28):\n",
    "            new_arr[i][j] = x[0][k]\n",
    "            k = k + 1\n",
    "\n",
    "    return new_arr\n",
    "\n",
    "new_img=convert_image('C:/xampp/htdocs/digit_recog/tmp/img.png')\n",
    "plt.subplot(1, 1, 1)\n",
    "plt.axis('off')\n",
    "plt.imshow(new_img, cmap=plt.cm.gray_r, interpolation='kaiser')\n",
    "npimg=np.array(new_img)\n",
    "npimg[npimg>0.1]=1\n",
    "npimg[npimg<=0.1]=0\n",
    "npimg=npimg.reshape(-1,28,28,1)\n",
    "predicted = model.predict(npimg)\n",
    "predicted = np.argmax(predicted,axis = 1)\n",
    "print(\"Predicted: \",predicted)"
   ]
  },
  {
   "cell_type": "code",
   "execution_count": 3,
   "metadata": {},
   "outputs": [],
   "source": [
    "predicted=model.predict_proba(npimg)"
   ]
  },
  {
   "cell_type": "code",
   "execution_count": 4,
   "metadata": {},
   "outputs": [
    {
     "name": "stdout",
     "output_type": "stream",
     "text": [
      "Confidence:  99.96141195297241\n"
     ]
    }
   ],
   "source": [
    "print(\"Confidence: \",predicted[0][3]*100)"
   ]
  },
  {
   "cell_type": "markdown",
   "metadata": {},
   "source": [
    "### Generating Confusion matrix for the model"
   ]
  },
  {
   "cell_type": "code",
   "execution_count": 5,
   "metadata": {},
   "outputs": [
    {
     "data": {
      "text/plain": [
       "array([[ 978,    0,    0,    0,    0,    0,    2,    0,    0,    0],\n",
       "       [   0, 1129,    0,    1,    0,    0,    1,    3,    1,    0],\n",
       "       [   1,    1, 1026,    2,    0,    0,    0,    2,    0,    0],\n",
       "       [   0,    0,    0, 1009,    0,    1,    0,    0,    0,    0],\n",
       "       [   0,    0,    0,    0,  979,    0,    0,    0,    1,    2],\n",
       "       [   0,    0,    0,    6,    0,  884,    1,    1,    0,    0],\n",
       "       [   3,    2,    0,    0,    1,    0,  950,    0,    2,    0],\n",
       "       [   0,    2,    1,    1,    0,    0,    0, 1023,    0,    1],\n",
       "       [   0,    0,    0,    1,    0,    1,    0,    0,  971,    1],\n",
       "       [   0,    0,    0,    0,    2,    1,    0,    0,    0, 1006]],\n",
       "      dtype=int64)"
      ]
     },
     "execution_count": 5,
     "metadata": {},
     "output_type": "execute_result"
    }
   ],
   "source": [
    "import sklearn.metrics as metrics\n",
    "from keras.datasets import mnist\n",
    "from keras.utils import np_utils\n",
    "\n",
    "(X_train, y_train), (X_test, y_test) = mnist.load_data()\n",
    "num_pixels = X_train.shape[1] * X_train.shape[2]\n",
    "X_test = X_test/255.0\n",
    "\n",
    "X_test = X_test.reshape(-1,28,28,1)\n",
    "\n",
    "y_pred_ohe = model.predict(X_test)\n",
    "y_pred_labels = np.argmax(y_pred_ohe, axis=1)  # only necessary if output has one-hot-encoding, shape=(n_samples)\n",
    "\n",
    "confusion_matrix = metrics.confusion_matrix(y_true=y_test, y_pred=y_pred_labels)\n",
    "confusion_matrix"
   ]
  },
  {
   "cell_type": "code",
   "execution_count": null,
   "metadata": {},
   "outputs": [],
   "source": []
  },
  {
   "cell_type": "code",
   "execution_count": null,
   "metadata": {},
   "outputs": [],
   "source": []
  }
 ],
 "metadata": {
  "kernelspec": {
   "display_name": "Python 3",
   "language": "python",
   "name": "python3"
  },
  "language_info": {
   "codemirror_mode": {
    "name": "ipython",
    "version": 3
   },
   "file_extension": ".py",
   "mimetype": "text/x-python",
   "name": "python",
   "nbconvert_exporter": "python",
   "pygments_lexer": "ipython3",
   "version": "3.6.5"
  }
 },
 "nbformat": 4,
 "nbformat_minor": 2
}
